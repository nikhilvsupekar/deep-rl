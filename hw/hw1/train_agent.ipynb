{
 "cells": [
  {
   "cell_type": "code",
   "execution_count": 1,
   "metadata": {},
   "outputs": [],
   "source": [
    "import pickle\n",
    "import numpy as np\n",
    "import os\n",
    "import gzip\n",
    "import matplotlib.pyplot as plt\n",
    "\n",
    "from model import Model\n",
    "from utils import *\n",
    "# from tensorboard_evaluation import Evaluation\n",
    "\n",
    "import torch\n",
    "import torch.nn as nn\n",
    "from torch.utils.data import TensorDataset, DataLoader"
   ]
  },
  {
   "cell_type": "code",
   "execution_count": 2,
   "metadata": {},
   "outputs": [],
   "source": [
    "def read_data(datasets_dir=\"./data\", frac = 0.1):\n",
    "    \"\"\"\n",
    "    This method reads the states and actions recorded in drive_manually.py \n",
    "    and splits it into training/ validation set.\n",
    "    \"\"\"\n",
    "    \n",
    "    print(\"... read data\")\n",
    "    data_file = os.path.join(datasets_dir, 'data.pkl.gzip')\n",
    "    \n",
    "    f = gzip.open(data_file,'rb')\n",
    "    data = pickle.load(f)\n",
    "    \n",
    "    # get images as features and actions as targets\n",
    "    X = np.array(data[\"state\"]).astype('float32')\n",
    "    y = np.array(data[\"action\"]).astype('float32')\n",
    "    \n",
    "    n_samples = len(data[\"state\"])\n",
    "    X_train, y_train = X[:int((1-frac) * n_samples)], y[:int((1-frac) * n_samples)]\n",
    "    X_valid, y_valid = X[int((1-frac) * n_samples):], y[int((1-frac) * n_samples):]\n",
    "    \n",
    "    return X_train, y_train, X_valid, y_valid\n",
    "\n",
    "def preprocess_X_for_conv(X, h):\n",
    "    zeros = np.zeros((h-1, 96, 96))\n",
    "    \n",
    "    new_X_train = np.concatenate((zeros, X))\n",
    "    new_X_list = []\n",
    "    \n",
    "    for i in range(X.shape[0]):\n",
    "        new_X_list.append(new_X_train[i: i+h])\n",
    "    \n",
    "    new_X_train = np.array(new_X_list)\n",
    "    \n",
    "    return new_X_train\n",
    "\n",
    "def preprocessing(X_train, y_train, X_valid, y_valid, h=1):\n",
    "    # TODO: preprocess your data here.\n",
    "    # 1. convert the images in X_train/X_valid to gray scale. If you use rgb2gray() from utils.py, the output shape (96, 96, 1)\n",
    "    # 2. you can either train your model with continous actions (as you get them from read_data) using regression\n",
    "    #    or you discretize the action space using action_to_id() from utils.py. If you discretize them, you'll maybe find one_hot() \n",
    "    #    useful and you may want to return X_train_unhot ... as well.\n",
    "    # \n",
    "    # # History:\n",
    "    # At first you should only use the current image as input to your network to learn the next action. Then the input states\n",
    "    # have shape (96, 96,1). Later, add a history of the last N images to your state so that a state has shape (96, 96, N).\n",
    "    X_train = rgb2gray(X_train)\n",
    "    X_valid = rgb2gray(X_valid)\n",
    "    \n",
    "    X_train = preprocess_X_for_conv(X_train, h)\n",
    "    X_valid = preprocess_X_for_conv(X_valid, h)\n",
    "    \n",
    "    return X_train, y_train, X_valid, y_valid\n",
    "\n"
   ]
  },
  {
   "cell_type": "code",
   "execution_count": 3,
   "metadata": {},
   "outputs": [],
   "source": [
    "\n",
    "def train_model(X_train, y_train, X_valid, y_valid, n_minibatches, batch_size, lr, model_dir=\"./models\", tensorboard_dir=\"./tensorboard\"):\n",
    "    \n",
    "    # create result and model folders\n",
    "    if not os.path.exists(model_dir):\n",
    "        os.mkdir(model_dir)\n",
    "    \n",
    "    if not os.path.exists(tensorboard_dir):\n",
    "        os.mkdir(tensorboard_dir)\n",
    " \n",
    "    print(\"... train model\")\n",
    "\n",
    "    device = torch.device(\"cuda:0\" if torch.cuda.is_available() else \"cpu\")\n",
    "\n",
    "    train_dataset = TensorDataset(torch.Tensor(X_train).float(), torch.Tensor(y_train).float())\n",
    "    val_dataset = TensorDataset(torch.Tensor(X_valid).float(), torch.Tensor(y_valid).float())\n",
    "    train_loader = DataLoader(\n",
    "        train_dataset,\n",
    "        batch_size = batch_size\n",
    "    )\n",
    "    val_loader = DataLoader(\n",
    "        val_dataset,\n",
    "        batch_size = batch_size\n",
    "    )\n",
    "\n",
    "    agent = Model()\n",
    "    agent.model = agent.model.to(device)\n",
    "\n",
    "    criterion = nn.MSELoss()\n",
    "    optimizer = torch.optim.Adam(agent.model.parameters(), lr = lr)\n",
    "\n",
    "    train_losses = []\n",
    "    val_losses = []\n",
    "    for epoch in range(n_minibatches):\n",
    "        # print(f'-- running epoch {epoch + 1} --')\n",
    "        \n",
    "        total_train_loss = 0\n",
    "        count = 0\n",
    "        for X, y in train_loader:\n",
    "            X = X.to(device)\n",
    "            y = y.to(device)\n",
    "            out = agent.model(X)\n",
    "            loss = criterion(out, y)\n",
    "\n",
    "            optimizer.zero_grad()\n",
    "            loss.backward()\n",
    "            optimizer.step()\n",
    "\n",
    "            total_train_loss += float(loss) * X.shape[0]\n",
    "            count += X.shape[0]\n",
    "        \n",
    "        avg_train_loss = total_train_loss / count\n",
    "\n",
    "\n",
    "        with torch.no_grad():\n",
    "            total_val_loss = 0\n",
    "            count = 0\n",
    "            for X, y in val_loader:\n",
    "                X = X.to(device)\n",
    "                y = y.to(device)\n",
    "                out = agent.model(X)\n",
    "                loss = criterion(out, y)\n",
    "\n",
    "                total_val_loss += float(loss) * X.shape[0]\n",
    "                count += X.shape[0]\n",
    "            \n",
    "            avg_val_loss = total_val_loss / count\n",
    "\n",
    "\n",
    "        print(f'epoch = {epoch}, train_loss = {avg_train_loss}, val_loss = {avg_val_loss}')\n",
    "        train_losses.append(avg_train_loss)\n",
    "        val_losses.append(avg_val_loss)\n",
    "        \n",
    "    # TODO: save your agent\n",
    "    model_dir = agent.save(os.path.join(model_dir, \"agent.ckpt\"))\n",
    "    print(\"Model saved in file: %s\" % model_dir)\n"
   ]
  },
  {
   "cell_type": "code",
   "execution_count": 4,
   "metadata": {
    "scrolled": true
   },
   "outputs": [
    {
     "name": "stdout",
     "output_type": "stream",
     "text": [
      "... read data\n",
      "... train model\n",
      "epoch = 0, train_loss = 0.10781574637360043, val_loss = 0.1342681366801262\n",
      "epoch = 1, train_loss = 0.07497666254474057, val_loss = 0.1333034808933735\n",
      "epoch = 2, train_loss = 0.06132689873667227, val_loss = 0.13118541526794433\n",
      "epoch = 3, train_loss = 0.048650114061931767, val_loss = 0.14240537291765212\n",
      "epoch = 4, train_loss = 0.04744709862603082, val_loss = 0.14270586037635805\n",
      "epoch = 5, train_loss = 0.04543609856400225, val_loss = 0.14148288178443907\n",
      "epoch = 6, train_loss = 0.04201823214027617, val_loss = 0.13455286806821823\n",
      "epoch = 7, train_loss = 0.04063013125128216, val_loss = 0.13963985973596574\n",
      "epoch = 8, train_loss = 0.03944381321138806, val_loss = 0.13775682279467583\n",
      "epoch = 9, train_loss = 0.03741486017240418, val_loss = 0.15328693425655365\n",
      "Model saved in file: None\n"
     ]
    }
   ],
   "source": [
    "X_train, y_train, X_valid, y_valid = read_data(\"/scratch/prs392/data\")\n",
    "X_train, y_train, X_valid, y_valid = preprocessing(X_train, y_train, X_valid, y_valid, h=3)\n",
    "\n",
    "# train model (you can change the parameters!)\n",
    "train_model(X_train, y_train, X_valid, y_valid, n_minibatches=10, batch_size=64, lr=0.0001)\n",
    " \n"
   ]
  },
  {
   "cell_type": "code",
   "execution_count": 5,
   "metadata": {},
   "outputs": [
    {
     "data": {
      "text/plain": [
       "(18000, 3, 96, 96)"
      ]
     },
     "execution_count": 5,
     "metadata": {},
     "output_type": "execute_result"
    }
   ],
   "source": [
    "X_train.shape"
   ]
  },
  {
   "cell_type": "code",
   "execution_count": null,
   "metadata": {
    "scrolled": true
   },
   "outputs": [],
   "source": [
    "# import seaborn as sns\n",
    "\n",
    "# sns.set_style('darkgrid')\n",
    "# epoch_df = pd.DataFrame(\n",
    "#     data = zip(list(\n",
    "#         range(1, 101), \n",
    "#         train_losses,\n",
    "#         val_losses\n",
    "#     )),\n",
    "#     columns = ['epoch', 'train_loss', 'val_loss']\n",
    "# )\n",
    "# sns.lineplot(data=epoch_df, x=\"epoch\", y=\"train_loss\")\n",
    "# sns.lineplot(data=epoch_df, x=\"epoch\", y=\"val_loss\")"
   ]
  },
  {
   "cell_type": "code",
   "execution_count": 26,
   "metadata": {},
   "outputs": [
    {
     "data": {
      "text/plain": [
       "[<matplotlib.lines.Line2D at 0x2b0e49062cd0>]"
      ]
     },
     "execution_count": 26,
     "metadata": {},
     "output_type": "execute_result"
    },
    {
     "data": {
      "image/png": "[encoded data removed]",
      "text/plain": [
       "<Figure size 432x288 with 1 Axes>"
      ]
     },
     "metadata": {
      "needs_background": "light"
     },
     "output_type": "display_data"
    }
   ],
   "source": [
    "plt.plot(list(range(1, 101)), train_losses)\n",
    "plt.plot(list(range(1, 101)), val_losses)`"
   ]
  },
  {
   "cell_type": "code",
   "execution_count": 19,
   "metadata": {},
   "outputs": [
    {
     "name": "stdout",
     "output_type": "stream",
     "text": [
      "/home/ns4486/repos/deep-rl/hw/hw1\r\n"
     ]
    }
   ],
   "source": [
    "!pwd"
   ]
  },
  {
   "cell_type": "code",
   "execution_count": 58,
   "metadata": {},
   "outputs": [],
   "source": [
    "a = np.random.randn(10, 2, 2)"
   ]
  },
  {
   "cell_type": "code",
   "execution_count": null,
   "metadata": {},
   "outputs": [],
   "source": [
    "b.shape"
   ]
  },
  {
   "cell_type": "code",
   "execution_count": 48,
   "metadata": {},
   "outputs": [
    {
     "data": {
      "text/plain": [
       "array([[[-1.55325184,  0.41584114],\n",
       "        [-1.00596372,  0.0322054 ]],\n",
       "\n",
       "       [[ 0.1620762 , -1.08385594],\n",
       "        [-0.13188478,  0.90755748]],\n",
       "\n",
       "       [[-1.08576933, -0.45324355],\n",
       "        [-0.99222878,  0.22658862]],\n",
       "\n",
       "       [[ 0.72281332, -0.45239166],\n",
       "        [ 2.20282897, -0.08389351]],\n",
       "\n",
       "       [[-1.19122789,  1.46680402],\n",
       "        [-0.13298913,  2.38555102]],\n",
       "\n",
       "       [[ 0.98160193, -1.3673283 ],\n",
       "        [ 0.27645605,  1.01362348]],\n",
       "\n",
       "       [[-0.81835741, -2.05078937],\n",
       "        [ 1.00554501,  2.70707119]],\n",
       "\n",
       "       [[-0.17791448,  0.706214  ],\n",
       "        [-0.31733533, -0.72234224]],\n",
       "\n",
       "       [[-1.07328592,  0.63158903],\n",
       "        [ 1.08996035, -1.45583752]],\n",
       "\n",
       "       [[ 0.15137742, -0.10050063],\n",
       "        [-0.52811123, -1.04970501]]])"
      ]
     },
     "execution_count": 48,
     "metadata": {},
     "output_type": "execute_result"
    }
   ],
   "source": [
    "a"
   ]
  },
  {
   "cell_type": "code",
   "execution_count": 49,
   "metadata": {},
   "outputs": [
    {
     "data": {
      "text/plain": [
       "array([[[[-1.55325184,  0.1620762 , -1.08576933,  0.72281332,\n",
       "          -1.19122789],\n",
       "         [ 0.41584114, -1.08385594, -0.45324355, -0.45239166,\n",
       "           1.46680402]],\n",
       "\n",
       "        [[-1.00596372, -0.13188478, -0.99222878,  2.20282897,\n",
       "          -0.13298913],\n",
       "         [ 0.0322054 ,  0.90755748,  0.22658862, -0.08389351,\n",
       "           2.38555102]]],\n",
       "\n",
       "\n",
       "       [[[ 0.1620762 , -1.08576933,  0.72281332, -1.19122789,\n",
       "           0.98160193],\n",
       "         [-1.08385594, -0.45324355, -0.45239166,  1.46680402,\n",
       "          -1.3673283 ]],\n",
       "\n",
       "        [[-0.13188478, -0.99222878,  2.20282897, -0.13298913,\n",
       "           0.27645605],\n",
       "         [ 0.90755748,  0.22658862, -0.08389351,  2.38555102,\n",
       "           1.01362348]]],\n",
       "\n",
       "\n",
       "       [[[-1.08576933,  0.72281332, -1.19122789,  0.98160193,\n",
       "          -0.81835741],\n",
       "         [-0.45324355, -0.45239166,  1.46680402, -1.3673283 ,\n",
       "          -2.05078937]],\n",
       "\n",
       "        [[-0.99222878,  2.20282897, -0.13298913,  0.27645605,\n",
       "           1.00554501],\n",
       "         [ 0.22658862, -0.08389351,  2.38555102,  1.01362348,\n",
       "           2.70707119]]],\n",
       "\n",
       "\n",
       "       [[[ 0.72281332, -1.19122789,  0.98160193, -0.81835741,\n",
       "          -0.17791448],\n",
       "         [-0.45239166,  1.46680402, -1.3673283 , -2.05078937,\n",
       "           0.706214  ]],\n",
       "\n",
       "        [[ 2.20282897, -0.13298913,  0.27645605,  1.00554501,\n",
       "          -0.31733533],\n",
       "         [-0.08389351,  2.38555102,  1.01362348,  2.70707119,\n",
       "          -0.72234224]]],\n",
       "\n",
       "\n",
       "       [[[-1.19122789,  0.98160193, -0.81835741, -0.17791448,\n",
       "          -1.07328592],\n",
       "         [ 1.46680402, -1.3673283 , -2.05078937,  0.706214  ,\n",
       "           0.63158903]],\n",
       "\n",
       "        [[-0.13298913,  0.27645605,  1.00554501, -0.31733533,\n",
       "           1.08996035],\n",
       "         [ 2.38555102,  1.01362348,  2.70707119, -0.72234224,\n",
       "          -1.45583752]]],\n",
       "\n",
       "\n",
       "       [[[ 0.98160193, -0.81835741, -0.17791448, -1.07328592,\n",
       "           0.15137742],\n",
       "         [-1.3673283 , -2.05078937,  0.706214  ,  0.63158903,\n",
       "          -0.10050063]],\n",
       "\n",
       "        [[ 0.27645605,  1.00554501, -0.31733533,  1.08996035,\n",
       "          -0.52811123],\n",
       "         [ 1.01362348,  2.70707119, -0.72234224, -1.45583752,\n",
       "          -1.04970501]]]])"
      ]
     },
     "execution_count": 49,
     "metadata": {},
     "output_type": "execute_result"
    }
   ],
   "source": [
    "b"
   ]
  },
  {
   "cell_type": "code",
   "execution_count": 3,
   "metadata": {},
   "outputs": [],
   "source": [
    "h = 10\n",
    "X_train = np.random.rand(18000, 96, 96)\n",
    "zeros = np.zeros((h-1, 96, 96))\n",
    "    \n",
    "new_X_train = np.concatenate((zeros, X_train))\n",
    "new_X_list = []\n",
    "\n",
    "for i in range(X_train.shape[0]):\n",
    "    new_X_list.append(new_X_train[i: i+h])\n",
    "\n",
    "new_X_train = np.array(new_X_list)"
   ]
  },
  {
   "cell_type": "code",
   "execution_count": 4,
   "metadata": {},
   "outputs": [
    {
     "data": {
      "text/plain": [
       "(18000, 96, 96)"
      ]
     },
     "execution_count": 4,
     "metadata": {},
     "output_type": "execute_result"
    }
   ],
   "source": [
    "X_train.shape"
   ]
  },
  {
   "cell_type": "code",
   "execution_count": 14,
   "metadata": {},
   "outputs": [
    {
     "data": {
      "text/plain": [
       "array([[0.64803264, 0.13856861, 0.59832251, ..., 0.6561182 , 0.41402695,\n",
       "        0.86967027],\n",
       "       [0.04576181, 0.58702148, 0.32174829, ..., 0.44582565, 0.09109458,\n",
       "        0.94298839],\n",
       "       [0.58510818, 0.71140923, 0.89659578, ..., 0.43496619, 0.46367226,\n",
       "        0.78038551],\n",
       "       ...,\n",
       "       [0.19524167, 0.4549348 , 0.2571272 , ..., 0.60652776, 0.10684719,\n",
       "        0.28140101],\n",
       "       [0.23074009, 0.42635061, 0.23721206, ..., 0.84259511, 0.69937933,\n",
       "        0.04211001],\n",
       "       [0.92982291, 0.57028   , 0.32807038, ..., 0.30643142, 0.54061548,\n",
       "        0.88450316]])"
      ]
     },
     "execution_count": 14,
     "metadata": {},
     "output_type": "execute_result"
    }
   ],
   "source": [
    "X_train[1]"
   ]
  },
  {
   "cell_type": "code",
   "execution_count": 15,
   "metadata": {},
   "outputs": [
    {
     "data": {
      "text/plain": [
       "(18000, 10, 96, 96)"
      ]
     },
     "execution_count": 15,
     "metadata": {},
     "output_type": "execute_result"
    }
   ],
   "source": [
    "new_X_train.shape"
   ]
  },
  {
   "cell_type": "code",
   "execution_count": 16,
   "metadata": {},
   "outputs": [
    {
     "data": {
      "text/plain": [
       "array([[0.64803264, 0.13856861, 0.59832251, ..., 0.6561182 , 0.41402695,\n",
       "        0.86967027],\n",
       "       [0.04576181, 0.58702148, 0.32174829, ..., 0.44582565, 0.09109458,\n",
       "        0.94298839],\n",
       "       [0.58510818, 0.71140923, 0.89659578, ..., 0.43496619, 0.46367226,\n",
       "        0.78038551],\n",
       "       ...,\n",
       "       [0.19524167, 0.4549348 , 0.2571272 , ..., 0.60652776, 0.10684719,\n",
       "        0.28140101],\n",
       "       [0.23074009, 0.42635061, 0.23721206, ..., 0.84259511, 0.69937933,\n",
       "        0.04211001],\n",
       "       [0.92982291, 0.57028   , 0.32807038, ..., 0.30643142, 0.54061548,\n",
       "        0.88450316]])"
      ]
     },
     "execution_count": 16,
     "metadata": {},
     "output_type": "execute_result"
    }
   ],
   "source": [
    "new_X_train[1, -1]"
   ]
  },
  {
   "cell_type": "code",
   "execution_count": null,
   "metadata": {},
   "outputs": [],
   "source": []
  }
 ],
 "metadata": {
  "kernelspec": {
   "display_name": "Python 3",
   "language": "python",
   "name": "python3"
  },
  "language_info": {
   "codemirror_mode": {
    "name": "ipython",
    "version": 3
   },
   "file_extension": ".py",
   "mimetype": "text/x-python",
   "name": "python",
   "nbconvert_exporter": "python",
   "pygments_lexer": "ipython3",
   "version": "3.8.3"
  }
 },
 "nbformat": 4,
 "nbformat_minor": 4
}
